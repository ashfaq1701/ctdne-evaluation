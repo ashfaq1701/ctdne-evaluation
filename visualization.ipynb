{
 "cells": [
  {
   "cell_type": "code",
   "id": "initial_id",
   "metadata": {
    "collapsed": true,
    "jupyter": {
     "outputs_hidden": true
    },
    "ExecuteTime": {
     "end_time": "2025-01-09T01:39:41.253814Z",
     "start_time": "2025-01-09T01:39:41.251523Z"
    }
   },
   "source": [
    "import pickle\n",
    "import numpy as np"
   ],
   "outputs": [],
   "execution_count": 62
  },
  {
   "cell_type": "code",
   "id": "47abc900929d7b2a",
   "metadata": {
    "ExecuteTime": {
     "end_time": "2025-01-09T01:39:41.259024Z",
     "start_time": "2025-01-09T01:39:41.257185Z"
    }
   },
   "source": [
    "EDGE_OP = 'hadamard'\n",
    "IS_WEIGHTED = 'unweighted'\n",
    "RESULTS_BASE_PATH = 'save'"
   ],
   "outputs": [],
   "execution_count": 63
  },
  {
   "cell_type": "code",
   "id": "77fb6a2bd0ff1f87",
   "metadata": {
    "ExecuteTime": {
     "end_time": "2025-01-09T01:39:41.273989Z",
     "start_time": "2025-01-09T01:39:41.270071Z"
    }
   },
   "source": [
    "datasets = [\n",
    "    {\n",
    "        'name': 'fb_forum', \n",
    "        'context_window_size': 10, \n",
    "        'init_picker': 'Uniform', \n",
    "        'edge_picker': 'Exponential',\n",
    "        'weighted_suffix': IS_WEIGHTED, \n",
    "        'edge_op': EDGE_OP, \n",
    "        'is_directed': 'undirected'\n",
    "    },\n",
    "    {\n",
    "        'name': 'ia_contact', \n",
    "        'context_window_size': 10, \n",
    "        'init_picker': 'Uniform', \n",
    "        'edge_picker': 'Exponential',\n",
    "        'weighted_suffix': IS_WEIGHTED, \n",
    "        'edge_op': EDGE_OP, \n",
    "        'is_directed': 'undirected'\n",
    "    },\n",
    "    {\n",
    "        'name': 'ia_contacts_hypertext_2009', \n",
    "        'context_window_size': 10, \n",
    "        'init_picker': 'Uniform', \n",
    "        'edge_picker': 'Exponential',\n",
    "        'weighted_suffix': IS_WEIGHTED, \n",
    "        'edge_op': EDGE_OP, \n",
    "        'is_directed': 'undirected'\n",
    "    },\n",
    "    {\n",
    "        'name': 'ia_email_eu', \n",
    "        'context_window_size': 10, \n",
    "        'init_picker': 'Uniform', \n",
    "        'edge_picker': 'Exponential',\n",
    "        'weighted_suffix': IS_WEIGHTED, \n",
    "        'edge_op': EDGE_OP, \n",
    "        'is_directed': 'undirected'\n",
    "    },\n",
    "    {\n",
    "        'name': 'ia_enron_employees', \n",
    "        'context_window_size': 10, \n",
    "        'init_picker': 'Uniform', \n",
    "        'edge_picker': 'Exponential',\n",
    "        'weighted_suffix': IS_WEIGHTED, \n",
    "        'edge_op': EDGE_OP, \n",
    "        'is_directed': 'undirected'\n",
    "    },\n",
    "    {\n",
    "        'name': 'ia_radoslaw_email', \n",
    "        'context_window_size': 10, \n",
    "        'init_picker': 'Uniform', \n",
    "        'edge_picker': 'Exponential',\n",
    "        'weighted_suffix': IS_WEIGHTED, \n",
    "        'edge_op': EDGE_OP, \n",
    "        'is_directed': 'undirected'\n",
    "    },\n",
    "    {\n",
    "        'name': 'soc_sign_bitcoin_alpha', \n",
    "        'context_window_size': 10, \n",
    "        'init_picker': 'Uniform', \n",
    "        'edge_picker': 'Exponential',\n",
    "        'weighted_suffix': IS_WEIGHTED, \n",
    "        'edge_op': EDGE_OP, \n",
    "        'is_directed': 'undirected'\n",
    "    },\n",
    "    {\n",
    "        'name': 'wiki_elections', \n",
    "        'context_window_size': 10, \n",
    "        'init_picker': 'Uniform', \n",
    "        'edge_picker': 'Exponential',\n",
    "        'weighted_suffix': IS_WEIGHTED, \n",
    "        'edge_op': EDGE_OP, \n",
    "        'is_directed': 'undirected'\n",
    "    }\n",
    "]"
   ],
   "outputs": [],
   "execution_count": 64
  },
  {
   "cell_type": "code",
   "id": "8cfc455882e1d60b",
   "metadata": {
    "ExecuteTime": {
     "end_time": "2025-01-09T01:39:41.285647Z",
     "start_time": "2025-01-09T01:39:41.283617Z"
    }
   },
   "source": "file_paths = [f'{RESULTS_BASE_PATH}/{dataset[\"name\"]}_{dataset[\"edge_picker\"]}_{dataset[\"init_picker\"]}_{dataset[\"context_window_size\"]}_{dataset[\"weighted_suffix\"]}_{dataset[\"edge_op\"]}_{dataset[\"is_directed\"]}.pkl' for dataset in datasets]",
   "outputs": [],
   "execution_count": 65
  },
  {
   "cell_type": "code",
   "id": "6e48141561a04c43",
   "metadata": {
    "ExecuteTime": {
     "end_time": "2025-01-09T01:39:41.300596Z",
     "start_time": "2025-01-09T01:39:41.294920Z"
    }
   },
   "source": [
    "mean_aucs = []\n",
    "mean_walk_times = []\n",
    "\n",
    "for file_path in file_paths:\n",
    "    result_for_dataset = pickle.load(open(file_path, 'rb'))\n",
    "    \n",
    "    mean_aucs.append({\n",
    "        'new_temporal': np.mean(result_for_dataset['metrics']['new_temporal']['auc_scores']),\n",
    "        'old_temporal': np.mean(result_for_dataset['metrics']['old_temporal']['auc_scores']),\n",
    "        'node2vec': np.mean(result_for_dataset['metrics']['node2vec']['auc_scores'])\n",
    "    })\n",
    "    \n",
    "    mean_walk_times.append({\n",
    "        'new_temporal': np.mean(result_for_dataset['metrics']['new_temporal']['walk_times']),\n",
    "        'old_temporal': np.mean(result_for_dataset['metrics']['old_temporal']['walk_times']),\n",
    "        'node2vec': np.mean(result_for_dataset['metrics']['node2vec']['walk_times'])\n",
    "    })"
   ],
   "outputs": [],
   "execution_count": 66
  },
  {
   "cell_type": "code",
   "id": "ad143617ce6ef92",
   "metadata": {
    "ExecuteTime": {
     "end_time": "2025-01-09T01:39:41.311867Z",
     "start_time": "2025-01-09T01:39:41.309702Z"
    }
   },
   "source": [
    "auc_new_temporal = [entry['new_temporal'] for entry in mean_aucs]\n",
    "auc_old_temporal = [entry['old_temporal'] for entry in mean_aucs]\n",
    "auc_node2vec = [entry['node2vec'] for entry in mean_aucs]\n",
    "\n",
    "walk_new_temporal = [entry['new_temporal'] for entry in mean_walk_times]\n",
    "walk_old_temporal = [entry['old_temporal'] for entry in mean_walk_times]\n",
    "walk_node2vec = [entry['node2vec'] for entry in mean_walk_times]"
   ],
   "outputs": [],
   "execution_count": 67
  },
  {
   "cell_type": "code",
   "id": "161a102cb3faff59",
   "metadata": {
    "ExecuteTime": {
     "end_time": "2025-01-09T01:39:41.685262Z",
     "start_time": "2025-01-09T01:39:41.321851Z"
    }
   },
   "source": [
    "import matplotlib.pyplot as plt\n",
    "import numpy as np\n",
    "\n",
    "bar_width = 0.25\n",
    "dataset_names = [dataset['name'] for dataset in datasets]\n",
    "x = np.arange(len(datasets))\n",
    "\n",
    "# Plotting AUC bar chart\n",
    "plt.figure(figsize=(14, 6))\n",
    "plt.bar(x - bar_width, auc_new_temporal, width=bar_width, label='New Temporal')\n",
    "plt.bar(x, auc_old_temporal, width=bar_width, label='Old Temporal')\n",
    "plt.bar(x + bar_width, auc_node2vec, width=bar_width, label='Node2Vec')\n",
    "\n",
    "plt.xlabel('Datasets')\n",
    "plt.ylabel('Mean AUC')\n",
    "plt.title('Mean AUC for Different Models Across Datasets')\n",
    "plt.xticks(x, dataset_names, rotation=45, ha='right')\n",
    "plt.legend()\n",
    "plt.tight_layout()\n",
    "plt.subplots_adjust(bottom=0.2)  # Adjust bottom margin\n",
    "plt.show()\n",
    "\n",
    "# Plotting Walk Time bar chart\n",
    "plt.figure(figsize=(14, 6))\n",
    "plt.bar(x - bar_width, walk_new_temporal, width=bar_width, label='New Temporal')\n",
    "plt.bar(x, walk_old_temporal, width=bar_width, label='Old Temporal')\n",
    "plt.bar(x + bar_width, walk_node2vec, width=bar_width, label='Node2Vec')\n",
    "\n",
    "plt.xlabel('Datasets')\n",
    "plt.ylabel('Mean Walk Time (s)')\n",
    "plt.title('Mean Walk Time for Different Models Across Datasets')\n",
    "plt.xticks(x, dataset_names, rotation=45, ha='right')\n",
    "plt.yscale('log')\n",
    "plt.legend()\n",
    "plt.tight_layout()\n",
    "plt.subplots_adjust(bottom=0.2)  # Adjust bottom margin\n",
    "plt.show()"
   ],
   "outputs": [
    {
     "data": {
      "text/plain": [
       "<Figure size 1400x600 with 1 Axes>"
      ],
      "image/png": "[encoded data removed]"
     },
     "metadata": {},
     "output_type": "display_data"
    },
    {
     "data": {
      "text/plain": [
       "<Figure size 1400x600 with 1 Axes>"
      ],
      "image/png": "[encoded data removed]"
     },
     "metadata": {},
     "output_type": "display_data"
    }
   ],
   "execution_count": 68
  },
  {
   "cell_type": "code",
   "id": "d37b48634aae52f1",
   "metadata": {
    "ExecuteTime": {
     "end_time": "2025-01-09T01:39:41.698474Z",
     "start_time": "2025-01-09T01:39:41.695669Z"
    }
   },
   "source": [
    "import pandas as pd\n",
    "\n",
    "auc_df = pd.DataFrame({\n",
    "    'Dataset': dataset_names,\n",
    "    'AUC_New_Temporal': auc_new_temporal,\n",
    "    'AUC_Old_Temporal': auc_old_temporal,\n",
    "    'AUC_Node2Vec': auc_node2vec,\n",
    "})\n",
    "\n",
    "auc_df = auc_df.round(2)\n",
    "\n",
    "walk_time_df = pd.DataFrame({\n",
    "    'Dataset': dataset_names,\n",
    "    'WalkTime_New_Temporal': walk_new_temporal,\n",
    "    'WalkTime_Old_Temporal': walk_old_temporal,\n",
    "    'WalkTime_Node2Vec': walk_node2vec\n",
    "})\n",
    "\n",
    "walk_time_df = walk_time_df.round(2)"
   ],
   "outputs": [],
   "execution_count": 69
  },
  {
   "cell_type": "code",
   "id": "41e3f2b85d8460a4",
   "metadata": {
    "ExecuteTime": {
     "end_time": "2025-01-09T01:39:41.712855Z",
     "start_time": "2025-01-09T01:39:41.708141Z"
    }
   },
   "source": [
    "auc_df"
   ],
   "outputs": [
    {
     "data": {
      "text/plain": [
       "                      Dataset  AUC_New_Temporal  AUC_Old_Temporal  \\\n",
       "0                    fb_forum              0.83              0.77   \n",
       "1                  ia_contact              0.93              0.92   \n",
       "2  ia_contacts_hypertext_2009              0.90              0.89   \n",
       "3                 ia_email_eu              0.92              0.91   \n",
       "4          ia_enron_employees              0.96              0.95   \n",
       "5           ia_radoslaw_email              0.92              0.91   \n",
       "6      soc_sign_bitcoin_alpha              0.80              0.71   \n",
       "7              wiki_elections              0.76              0.72   \n",
       "\n",
       "   AUC_Node2Vec  \n",
       "0          0.80  \n",
       "1          0.93  \n",
       "2          0.87  \n",
       "3          0.89  \n",
       "4          0.95  \n",
       "5          0.88  \n",
       "6          0.74  \n",
       "7          0.71  "
      ],
      "text/html": [
       "<div>\n",
       "<style scoped>\n",
       "    .dataframe tbody tr th:only-of-type {\n",
       "        vertical-align: middle;\n",
       "    }\n",
       "\n",
       "    .dataframe tbody tr th {\n",
       "        vertical-align: top;\n",
       "    }\n",
       "\n",
       "    .dataframe thead th {\n",
       "        text-align: right;\n",
       "    }\n",
       "</style>\n",
       "<table border=\"1\" class=\"dataframe\">\n",
       "  <thead>\n",
       "    <tr style=\"text-align: right;\">\n",
       "      <th></th>\n",
       "      <th>Dataset</th>\n",
       "      <th>AUC_New_Temporal</th>\n",
       "      <th>AUC_Old_Temporal</th>\n",
       "      <th>AUC_Node2Vec</th>\n",
       "    </tr>\n",
       "  </thead>\n",
       "  <tbody>\n",
       "    <tr>\n",
       "      <th>0</th>\n",
       "      <td>fb_forum</td>\n",
       "      <td>0.83</td>\n",
       "      <td>0.77</td>\n",
       "      <td>0.80</td>\n",
       "    </tr>\n",
       "    <tr>\n",
       "      <th>1</th>\n",
       "      <td>ia_contact</td>\n",
       "      <td>0.93</td>\n",
       "      <td>0.92</td>\n",
       "      <td>0.93</td>\n",
       "    </tr>\n",
       "    <tr>\n",
       "      <th>2</th>\n",
       "      <td>ia_contacts_hypertext_2009</td>\n",
       "      <td>0.90</td>\n",
       "      <td>0.89</td>\n",
       "      <td>0.87</td>\n",
       "    </tr>\n",
       "    <tr>\n",
       "      <th>3</th>\n",
       "      <td>ia_email_eu</td>\n",
       "      <td>0.92</td>\n",
       "      <td>0.91</td>\n",
       "      <td>0.89</td>\n",
       "    </tr>\n",
       "    <tr>\n",
       "      <th>4</th>\n",
       "      <td>ia_enron_employees</td>\n",
       "      <td>0.96</td>\n",
       "      <td>0.95</td>\n",
       "      <td>0.95</td>\n",
       "    </tr>\n",
       "    <tr>\n",
       "      <th>5</th>\n",
       "      <td>ia_radoslaw_email</td>\n",
       "      <td>0.92</td>\n",
       "      <td>0.91</td>\n",
       "      <td>0.88</td>\n",
       "    </tr>\n",
       "    <tr>\n",
       "      <th>6</th>\n",
       "      <td>soc_sign_bitcoin_alpha</td>\n",
       "      <td>0.80</td>\n",
       "      <td>0.71</td>\n",
       "      <td>0.74</td>\n",
       "    </tr>\n",
       "    <tr>\n",
       "      <th>7</th>\n",
       "      <td>wiki_elections</td>\n",
       "      <td>0.76</td>\n",
       "      <td>0.72</td>\n",
       "      <td>0.71</td>\n",
       "    </tr>\n",
       "  </tbody>\n",
       "</table>\n",
       "</div>"
      ]
     },
     "execution_count": 70,
     "metadata": {},
     "output_type": "execute_result"
    }
   ],
   "execution_count": 70
  },
  {
   "cell_type": "code",
   "id": "d23412ba302efc36",
   "metadata": {
    "ExecuteTime": {
     "end_time": "2025-01-09T01:39:41.747577Z",
     "start_time": "2025-01-09T01:39:41.743296Z"
    }
   },
   "source": [
    "walk_time_df"
   ],
   "outputs": [
    {
     "data": {
      "text/plain": [
       "                      Dataset  WalkTime_New_Temporal  WalkTime_Old_Temporal  \\\n",
       "0                    fb_forum                   0.79                  45.46   \n",
       "1                  ia_contact                   0.96                  15.81   \n",
       "2  ia_contacts_hypertext_2009                   0.44                   5.62   \n",
       "3                 ia_email_eu                  10.82                  71.73   \n",
       "4          ia_enron_employees                   1.42                  10.04   \n",
       "5           ia_radoslaw_email                   2.79                  11.88   \n",
       "6      soc_sign_bitcoin_alpha                   0.32                 593.93   \n",
       "7              wiki_elections                   3.01                 388.72   \n",
       "\n",
       "   WalkTime_Node2Vec  \n",
       "0               2.40  \n",
       "1               1.46  \n",
       "2               1.33  \n",
       "3               5.37  \n",
       "4               1.06  \n",
       "5               1.76  \n",
       "6               6.23  \n",
       "7              56.51  "
      ],
      "text/html": [
       "<div>\n",
       "<style scoped>\n",
       "    .dataframe tbody tr th:only-of-type {\n",
       "        vertical-align: middle;\n",
       "    }\n",
       "\n",
       "    .dataframe tbody tr th {\n",
       "        vertical-align: top;\n",
       "    }\n",
       "\n",
       "    .dataframe thead th {\n",
       "        text-align: right;\n",
       "    }\n",
       "</style>\n",
       "<table border=\"1\" class=\"dataframe\">\n",
       "  <thead>\n",
       "    <tr style=\"text-align: right;\">\n",
       "      <th></th>\n",
       "      <th>Dataset</th>\n",
       "      <th>WalkTime_New_Temporal</th>\n",
       "      <th>WalkTime_Old_Temporal</th>\n",
       "      <th>WalkTime_Node2Vec</th>\n",
       "    </tr>\n",
       "  </thead>\n",
       "  <tbody>\n",
       "    <tr>\n",
       "      <th>0</th>\n",
       "      <td>fb_forum</td>\n",
       "      <td>0.79</td>\n",
       "      <td>45.46</td>\n",
       "      <td>2.40</td>\n",
       "    </tr>\n",
       "    <tr>\n",
       "      <th>1</th>\n",
       "      <td>ia_contact</td>\n",
       "      <td>0.96</td>\n",
       "      <td>15.81</td>\n",
       "      <td>1.46</td>\n",
       "    </tr>\n",
       "    <tr>\n",
       "      <th>2</th>\n",
       "      <td>ia_contacts_hypertext_2009</td>\n",
       "      <td>0.44</td>\n",
       "      <td>5.62</td>\n",
       "      <td>1.33</td>\n",
       "    </tr>\n",
       "    <tr>\n",
       "      <th>3</th>\n",
       "      <td>ia_email_eu</td>\n",
       "      <td>10.82</td>\n",
       "      <td>71.73</td>\n",
       "      <td>5.37</td>\n",
       "    </tr>\n",
       "    <tr>\n",
       "      <th>4</th>\n",
       "      <td>ia_enron_employees</td>\n",
       "      <td>1.42</td>\n",
       "      <td>10.04</td>\n",
       "      <td>1.06</td>\n",
       "    </tr>\n",
       "    <tr>\n",
       "      <th>5</th>\n",
       "      <td>ia_radoslaw_email</td>\n",
       "      <td>2.79</td>\n",
       "      <td>11.88</td>\n",
       "      <td>1.76</td>\n",
       "    </tr>\n",
       "    <tr>\n",
       "      <th>6</th>\n",
       "      <td>soc_sign_bitcoin_alpha</td>\n",
       "      <td>0.32</td>\n",
       "      <td>593.93</td>\n",
       "      <td>6.23</td>\n",
       "    </tr>\n",
       "    <tr>\n",
       "      <th>7</th>\n",
       "      <td>wiki_elections</td>\n",
       "      <td>3.01</td>\n",
       "      <td>388.72</td>\n",
       "      <td>56.51</td>\n",
       "    </tr>\n",
       "  </tbody>\n",
       "</table>\n",
       "</div>"
      ]
     },
     "execution_count": 71,
     "metadata": {},
     "output_type": "execute_result"
    }
   ],
   "execution_count": 71
  },
  {
   "cell_type": "code",
   "id": "594cf594dfc50db7",
   "metadata": {
    "ExecuteTime": {
     "end_time": "2025-01-09T01:39:41.800439Z",
     "start_time": "2025-01-09T01:39:41.793328Z"
    }
   },
   "source": [
    "alternate_datasets = [\n",
    "    {\n",
    "        'name': 'ia_contact',\n",
    "        'alias': 'contact',\n",
    "        'variants': [\n",
    "            {\n",
    "                'context_window_size': 10, \n",
    "                'init_picker': 'Uniform', \n",
    "                'edge_picker': 'Uniform', \n",
    "                'weighted_suffix': IS_WEIGHTED, \n",
    "                'edge_op': EDGE_OP, \n",
    "                'is_directed': 'undirected'\n",
    "            },\n",
    "            {\n",
    "                'context_window_size': 10, \n",
    "                'init_picker': 'Uniform', \n",
    "                'edge_picker': 'Linear', \n",
    "                'weighted_suffix': IS_WEIGHTED, \n",
    "                'edge_op': EDGE_OP, \n",
    "                'is_directed': 'undirected'\n",
    "            },\n",
    "            {\n",
    "                'context_window_size': 10, \n",
    "                'init_picker': 'Linear', \n",
    "                'edge_picker': 'Uniform', \n",
    "                'weighted_suffix': IS_WEIGHTED, \n",
    "                'edge_op': EDGE_OP, \n",
    "                'is_directed': 'undirected'\n",
    "            },\n",
    "            {\n",
    "                'context_window_size': 10, \n",
    "                'init_picker': 'Linear', \n",
    "                'edge_picker': 'Linear', \n",
    "                'weighted_suffix': IS_WEIGHTED, \n",
    "                'edge_op': EDGE_OP, \n",
    "                'is_directed': 'undirected'\n",
    "            }\n",
    "        ]\n",
    "    },\n",
    "    {\n",
    "        'name': 'ia_contacts_hypertext_2009', \n",
    "        'alias': 'hyper',\n",
    "        'variants': [\n",
    "            {\n",
    "                'context_window_size': 10, \n",
    "                'init_picker': 'Uniform', \n",
    "                'edge_picker': 'Uniform', \n",
    "                'weighted_suffix': IS_WEIGHTED, \n",
    "                'edge_op': EDGE_OP, \n",
    "                'is_directed': 'undirected'\n",
    "            },\n",
    "            {\n",
    "                'context_window_size': 10, \n",
    "                'init_picker': 'Uniform', \n",
    "                'edge_picker': 'Linear', \n",
    "                'weighted_suffix': IS_WEIGHTED, \n",
    "                'edge_op': EDGE_OP, \n",
    "                'is_directed': 'undirected'\n",
    "            },\n",
    "            {\n",
    "                'context_window_size': 10, \n",
    "                'init_picker': 'Linear', \n",
    "                'edge_picker': 'Uniform', \n",
    "                'weighted_suffix': IS_WEIGHTED, \n",
    "                'edge_op': EDGE_OP, \n",
    "                'is_directed': 'undirected'\n",
    "            },\n",
    "            {\n",
    "                'context_window_size': 10, \n",
    "                'init_picker': 'Linear', \n",
    "                'edge_picker': 'Linear', \n",
    "                'weighted_suffix': IS_WEIGHTED, \n",
    "                'edge_op': EDGE_OP, \n",
    "                'is_directed': 'undirected'\n",
    "            }\n",
    "        ]\n",
    "    },\n",
    "    {\n",
    "        'name': 'ia_enron_employees', \n",
    "        'alias': 'enron',\n",
    "        'variants': [\n",
    "            {\n",
    "                'context_window_size': 10, \n",
    "                'init_picker': 'Uniform', \n",
    "                'edge_picker': 'Uniform', \n",
    "                'weighted_suffix': IS_WEIGHTED, \n",
    "                'edge_op': EDGE_OP, \n",
    "                'is_directed': 'undirected'\n",
    "            },\n",
    "            {\n",
    "                'context_window_size': 10, \n",
    "                'init_picker': 'Uniform', \n",
    "                'edge_picker': 'Linear', \n",
    "                'weighted_suffix': IS_WEIGHTED, \n",
    "                'edge_op': EDGE_OP, \n",
    "                'is_directed': 'undirected'\n",
    "            },\n",
    "            {\n",
    "                'context_window_size': 10, \n",
    "                'init_picker': 'Linear', \n",
    "                'edge_picker': 'Uniform', \n",
    "                'weighted_suffix': IS_WEIGHTED, \n",
    "                'edge_op': EDGE_OP, \n",
    "                'is_directed': 'undirected'\n",
    "            },\n",
    "            {\n",
    "                'context_window_size': 10, \n",
    "                'init_picker': 'Linear', \n",
    "                'edge_picker': 'Linear', \n",
    "                'weighted_suffix': IS_WEIGHTED, \n",
    "                'edge_op': EDGE_OP, \n",
    "                'is_directed': 'undirected'\n",
    "            }\n",
    "        ]\n",
    "    },\n",
    "    {\n",
    "        'name': 'ia_radoslaw_email',\n",
    "        'alias': 'rado',\n",
    "        'variants': [\n",
    "            {\n",
    "                'context_window_size': 10, \n",
    "                'init_picker': 'Uniform', \n",
    "                'edge_picker': 'Uniform', \n",
    "                'weighted_suffix': IS_WEIGHTED, \n",
    "                'edge_op': EDGE_OP, \n",
    "                'is_directed': 'undirected'\n",
    "            },\n",
    "            {\n",
    "                'context_window_size': 10, \n",
    "                'init_picker': 'Uniform', \n",
    "                'edge_picker': 'Linear', \n",
    "                'weighted_suffix': IS_WEIGHTED, \n",
    "                'edge_op': EDGE_OP, \n",
    "                'is_directed': 'undirected'\n",
    "            },\n",
    "            {\n",
    "                'context_window_size': 10, \n",
    "                'init_picker': 'Linear', \n",
    "                'edge_picker': 'Uniform', \n",
    "                'weighted_suffix': IS_WEIGHTED, \n",
    "                'edge_op': EDGE_OP, \n",
    "                'is_directed': 'undirected'\n",
    "            },\n",
    "            {\n",
    "                'context_window_size': 10, \n",
    "                'init_picker': 'Linear', \n",
    "                'edge_picker': 'Linear', \n",
    "                'weighted_suffix': IS_WEIGHTED, \n",
    "                'edge_op': EDGE_OP, \n",
    "                'is_directed': 'undirected'\n",
    "            }\n",
    "        ]\n",
    "    }\n",
    "]"
   ],
   "outputs": [],
   "execution_count": 72
  },
  {
   "cell_type": "code",
   "id": "738866882749916a",
   "metadata": {
    "ExecuteTime": {
     "end_time": "2025-01-09T01:39:41.844485Z",
     "start_time": "2025-01-09T01:39:41.836354Z"
    }
   },
   "source": [
    "alternate_dataset_results = {}\n",
    "\n",
    "for dataset in alternate_datasets:\n",
    "    dataset_name = dataset['name']\n",
    "    dataset_result = {}\n",
    "    \n",
    "    for variant in dataset['variants']:\n",
    "        file_path = f'{RESULTS_BASE_PATH}/{dataset_name}_{variant[\"edge_picker\"]}_{variant[\"init_picker\"]}_{variant[\"context_window_size\"]}_{variant[\"weighted_suffix\"]}_{variant[\"edge_op\"]}_{variant[\"is_directed\"]}.pkl'\n",
    "        result_for_variant = pickle.load(open(file_path, 'rb'))\n",
    "        dataset_result[f'{variant[\"init_picker\"]}_{variant[\"edge_picker\"]}'] = {\n",
    "            'new_temporal': np.mean(result_for_variant['metrics']['new_temporal']['auc_scores']),\n",
    "            'old_temporal': np.mean(result_for_variant['metrics']['old_temporal']['auc_scores']),\n",
    "            'node2vec': np.mean(result_for_variant['metrics']['node2vec']['auc_scores'])\n",
    "        }\n",
    "        \n",
    "    alternate_dataset_results[dataset['alias']] = dataset_result"
   ],
   "outputs": [],
   "execution_count": 73
  },
  {
   "cell_type": "code",
   "id": "cc1b4e9c349e6909",
   "metadata": {
    "ExecuteTime": {
     "end_time": "2025-01-09T01:39:41.852533Z",
     "start_time": "2025-01-09T01:39:41.848089Z"
    }
   },
   "source": [
    "import pandas as pd\n",
    "\n",
    "table_rows = []\n",
    "\n",
    "for dataset_name, variants in alternate_dataset_results.items():\n",
    "    for variant_name, metrics in variants.items():\n",
    "        init_picker, edge_picker = variant_name.split('_')\n",
    "        \n",
    "        table_rows.append({\n",
    "            'F_s': init_picker,\n",
    "            'F_Gamma': edge_picker,\n",
    "            f'{dataset_name} (New)': round(metrics['new_temporal'], 3),\n",
    "            f'{dataset_name} (Old)': round(metrics['old_temporal'], 3),\n",
    "        })\n",
    "\n",
    "df = pd.DataFrame(table_rows)\n",
    "\n",
    "df = df.groupby(['F_s', 'F_Gamma'], as_index=False).first()"
   ],
   "outputs": [],
   "execution_count": 74
  },
  {
   "cell_type": "code",
   "id": "7dd4e49aa52a9e93",
   "metadata": {
    "ExecuteTime": {
     "end_time": "2025-01-09T01:39:41.869234Z",
     "start_time": "2025-01-09T01:39:41.864059Z"
    }
   },
   "source": [
    "df"
   ],
   "outputs": [
    {
     "data": {
      "text/plain": [
       "       F_s  F_Gamma  contact (New)  contact (Old)  hyper (New)  hyper (Old)  \\\n",
       "0   Linear   Linear          0.948          0.929        0.900        0.898   \n",
       "1   Linear  Uniform          0.958          0.931        0.907        0.896   \n",
       "2  Uniform   Linear          0.950          0.927        0.903        0.898   \n",
       "3  Uniform  Uniform          0.959          0.931        0.905        0.899   \n",
       "\n",
       "   enron (New)  enron (Old)  rado (New)  rado (Old)  \n",
       "0        0.967        0.957       0.935       0.924  \n",
       "1        0.973        0.960       0.949       0.924  \n",
       "2        0.969        0.960       0.937       0.925  \n",
       "3        0.966        0.956       0.952       0.921  "
      ],
      "text/html": [
       "<div>\n",
       "<style scoped>\n",
       "    .dataframe tbody tr th:only-of-type {\n",
       "        vertical-align: middle;\n",
       "    }\n",
       "\n",
       "    .dataframe tbody tr th {\n",
       "        vertical-align: top;\n",
       "    }\n",
       "\n",
       "    .dataframe thead th {\n",
       "        text-align: right;\n",
       "    }\n",
       "</style>\n",
       "<table border=\"1\" class=\"dataframe\">\n",
       "  <thead>\n",
       "    <tr style=\"text-align: right;\">\n",
       "      <th></th>\n",
       "      <th>F_s</th>\n",
       "      <th>F_Gamma</th>\n",
       "      <th>contact (New)</th>\n",
       "      <th>contact (Old)</th>\n",
       "      <th>hyper (New)</th>\n",
       "      <th>hyper (Old)</th>\n",
       "      <th>enron (New)</th>\n",
       "      <th>enron (Old)</th>\n",
       "      <th>rado (New)</th>\n",
       "      <th>rado (Old)</th>\n",
       "    </tr>\n",
       "  </thead>\n",
       "  <tbody>\n",
       "    <tr>\n",
       "      <th>0</th>\n",
       "      <td>Linear</td>\n",
       "      <td>Linear</td>\n",
       "      <td>0.948</td>\n",
       "      <td>0.929</td>\n",
       "      <td>0.900</td>\n",
       "      <td>0.898</td>\n",
       "      <td>0.967</td>\n",
       "      <td>0.957</td>\n",
       "      <td>0.935</td>\n",
       "      <td>0.924</td>\n",
       "    </tr>\n",
       "    <tr>\n",
       "      <th>1</th>\n",
       "      <td>Linear</td>\n",
       "      <td>Uniform</td>\n",
       "      <td>0.958</td>\n",
       "      <td>0.931</td>\n",
       "      <td>0.907</td>\n",
       "      <td>0.896</td>\n",
       "      <td>0.973</td>\n",
       "      <td>0.960</td>\n",
       "      <td>0.949</td>\n",
       "      <td>0.924</td>\n",
       "    </tr>\n",
       "    <tr>\n",
       "      <th>2</th>\n",
       "      <td>Uniform</td>\n",
       "      <td>Linear</td>\n",
       "      <td>0.950</td>\n",
       "      <td>0.927</td>\n",
       "      <td>0.903</td>\n",
       "      <td>0.898</td>\n",
       "      <td>0.969</td>\n",
       "      <td>0.960</td>\n",
       "      <td>0.937</td>\n",
       "      <td>0.925</td>\n",
       "    </tr>\n",
       "    <tr>\n",
       "      <th>3</th>\n",
       "      <td>Uniform</td>\n",
       "      <td>Uniform</td>\n",
       "      <td>0.959</td>\n",
       "      <td>0.931</td>\n",
       "      <td>0.905</td>\n",
       "      <td>0.899</td>\n",
       "      <td>0.966</td>\n",
       "      <td>0.956</td>\n",
       "      <td>0.952</td>\n",
       "      <td>0.921</td>\n",
       "    </tr>\n",
       "  </tbody>\n",
       "</table>\n",
       "</div>"
      ]
     },
     "execution_count": 75,
     "metadata": {},
     "output_type": "execute_result"
    }
   ],
   "execution_count": 75
  },
  {
   "cell_type": "code",
   "id": "a33838251d933808",
   "metadata": {
    "ExecuteTime": {
     "end_time": "2025-01-09T01:39:41.903097Z",
     "start_time": "2025-01-09T01:39:41.901182Z"
    }
   },
   "source": [
    "alibaba_dataset = {\n",
    "    'name': 'alibaba', \n",
    "    'context_window_size': 10, \n",
    "    'init_picker': 'Uniform', \n",
    "    'edge_picker': 'Exponential',\n",
    "    'weighted_suffix': 'unweighted', \n",
    "    'edge_op': 'hadamard', \n",
    "    'is_directed': 'directed'\n",
    "}"
   ],
   "outputs": [],
   "execution_count": 76
  },
  {
   "metadata": {
    "ExecuteTime": {
     "end_time": "2025-01-09T01:39:41.935033Z",
     "start_time": "2025-01-09T01:39:41.932841Z"
    }
   },
   "cell_type": "code",
   "source": [
    "alibaba_filepath = f'save/{alibaba_dataset[\"name\"]}_{alibaba_dataset[\"edge_picker\"]}_{alibaba_dataset[\"init_picker\"]}_{alibaba_dataset[\"context_window_size\"]}_{alibaba_dataset[\"weighted_suffix\"]}_{alibaba_dataset[\"edge_op\"]}_{alibaba_dataset[\"is_directed\"]}.pkl'\n",
    "alibaba_results_data = pickle.load(open(alibaba_filepath, 'rb'))"
   ],
   "id": "b54debee865cf3be",
   "outputs": [],
   "execution_count": 77
  },
  {
   "metadata": {
    "ExecuteTime": {
     "end_time": "2025-01-09T01:39:41.957757Z",
     "start_time": "2025-01-09T01:39:41.955139Z"
    }
   },
   "cell_type": "code",
   "source": [
    "alibaba_results = {\n",
    "    'AUC': {\n",
    "        'new_temporal': np.mean(alibaba_results_data['metrics']['new_temporal']['auc_scores']),\n",
    "        'old_temporal': np.mean(alibaba_results_data['metrics']['old_temporal']['auc_scores']),\n",
    "        'node2vec': np.mean(alibaba_results_data['metrics']['node2vec']['auc_scores'])\n",
    "    },\n",
    "    'Walk Times': {\n",
    "        'new_temporal': np.mean(alibaba_results_data['metrics']['new_temporal']['walk_times']),\n",
    "        'old_temporal': np.mean(alibaba_results_data['metrics']['old_temporal']['walk_times']),\n",
    "        'node2vec': np.mean(alibaba_results_data['metrics']['node2vec']['walk_times'])\n",
    "    }\n",
    "}"
   ],
   "id": "4c7e959d8430debd",
   "outputs": [],
   "execution_count": 78
  },
  {
   "metadata": {
    "ExecuteTime": {
     "end_time": "2025-01-09T01:39:41.969789Z",
     "start_time": "2025-01-09T01:39:41.968038Z"
    }
   },
   "cell_type": "code",
   "source": "alibaba_df = pd.DataFrame(alibaba_results).T",
   "id": "6b82489afe22172c",
   "outputs": [],
   "execution_count": 79
  },
  {
   "metadata": {
    "ExecuteTime": {
     "end_time": "2025-01-09T01:39:41.984148Z",
     "start_time": "2025-01-09T01:39:41.980811Z"
    }
   },
   "cell_type": "code",
   "source": "alibaba_df",
   "id": "43a1a304f0800da5",
   "outputs": [
    {
     "data": {
      "text/plain": [
       "            new_temporal  old_temporal  node2vec\n",
       "AUC             0.981842      0.500000  0.957631\n",
       "Walk Times     32.954665  16533.862519  3.037064"
      ],
      "text/html": [
       "<div>\n",
       "<style scoped>\n",
       "    .dataframe tbody tr th:only-of-type {\n",
       "        vertical-align: middle;\n",
       "    }\n",
       "\n",
       "    .dataframe tbody tr th {\n",
       "        vertical-align: top;\n",
       "    }\n",
       "\n",
       "    .dataframe thead th {\n",
       "        text-align: right;\n",
       "    }\n",
       "</style>\n",
       "<table border=\"1\" class=\"dataframe\">\n",
       "  <thead>\n",
       "    <tr style=\"text-align: right;\">\n",
       "      <th></th>\n",
       "      <th>new_temporal</th>\n",
       "      <th>old_temporal</th>\n",
       "      <th>node2vec</th>\n",
       "    </tr>\n",
       "  </thead>\n",
       "  <tbody>\n",
       "    <tr>\n",
       "      <th>AUC</th>\n",
       "      <td>0.981842</td>\n",
       "      <td>0.500000</td>\n",
       "      <td>0.957631</td>\n",
       "    </tr>\n",
       "    <tr>\n",
       "      <th>Walk Times</th>\n",
       "      <td>32.954665</td>\n",
       "      <td>16533.862519</td>\n",
       "      <td>3.037064</td>\n",
       "    </tr>\n",
       "  </tbody>\n",
       "</table>\n",
       "</div>"
      ]
     },
     "execution_count": 80,
     "metadata": {},
     "output_type": "execute_result"
    }
   ],
   "execution_count": 80
  },
  {
   "metadata": {
    "ExecuteTime": {
     "end_time": "2025-01-09T01:39:42.017809Z",
     "start_time": "2025-01-09T01:39:42.016341Z"
    }
   },
   "cell_type": "code",
   "source": "",
   "id": "5a8498ecea9358e3",
   "outputs": [],
   "execution_count": null
  }
 ],
 "metadata": {
  "kernelspec": {
   "display_name": "Python 3 (ipykernel)",
   "language": "python",
   "name": "python3"
  },
  "language_info": {
   "codemirror_mode": {
    "name": "ipython",
    "version": 3
   },
   "file_extension": ".py",
   "mimetype": "text/x-python",
   "name": "python",
   "nbconvert_exporter": "python",
   "pygments_lexer": "ipython3",
   "version": "3.8.20"
  }
 },
 "nbformat": 4,
 "nbformat_minor": 5
}
